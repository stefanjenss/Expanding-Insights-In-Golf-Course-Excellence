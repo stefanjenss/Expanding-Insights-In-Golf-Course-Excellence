{
  "cells": [
    {
      "cell_type": "markdown",
      "metadata": {
        "id": "Yj2ByRp5Yg5t"
      },
      "source": [
        "## PRE-EXPERIMENT #2 - TENSORFLOW BERT CLASSIFICATION APPROACH FOR THE GOLF COURSE REVIEW DATA\n",
        "\n",
        "In this file, we will be experimenting with the Tensorflow BERT model to create an end-to-end BERT\n",
        "classification model for the expanded golf course review dataset. In this experiment, we will be\n",
        "completing both the embedding creation and the classification model using BERT.\n",
        "\n",
        "----"
      ]
    },
    {
      "cell_type": "markdown",
      "source": [
        "**1. Import the necessary libraries for this experiment**"
      ],
      "metadata": {
        "id": "ZdMnutLEYj0o"
      }
    },
    {
      "cell_type": "code",
      "source": [
        "!pip install -U \"tensorflow-text==2.13.*\"\n",
        "!pip install \"tf-models-official==2.13.*\""
      ],
      "metadata": {
        "id": "HB8FBobiYyFC"
      },
      "execution_count": null,
      "outputs": []
    },
    {
      "cell_type": "code",
      "execution_count": 3,
      "metadata": {
        "id": "U-qn4FfWYg5u"
      },
      "outputs": [],
      "source": [
        "import pandas as pd\n",
        "import os\n",
        "import shutil\n",
        "import tensorflow as tf\n",
        "import tensorflow_hub as hub\n",
        "import tensorflow_text as text\n",
        "from official.nlp import optimization\n",
        "\n",
        "import matplotlib.pyplot as plt\n",
        "\n",
        "tf.get_logger().setLevel('ERROR')"
      ]
    },
    {
      "cell_type": "markdown",
      "source": [
        "**2. Load the expanded golf course review dataset**"
      ],
      "metadata": {
        "id": "4Ex1HMetZ2dY"
      }
    },
    {
      "cell_type": "code",
      "source": [
        "# Load the dataset\n",
        "file_path = \"top_and_non_golf_course_reviews.csv\"\n",
        "df = pd.read_csv(file_path)"
      ],
      "metadata": {
        "id": "VfdwydT-Z6Rg"
      },
      "execution_count": 4,
      "outputs": []
    },
    {
      "cell_type": "markdown",
      "source": [
        "**3. Preprocess the dataset**\n",
        "\n",
        "For data prepprocessing, we will be using the following steps:\n",
        "\n",
        "- Tokenization\n",
        "- Non-alphabetic token removal\n",
        "- Stopword removal\n",
        "- Lemmatization\n",
        "- Domain-specific stopword removal\n"
      ],
      "metadata": {
        "id": "jPvMIcevZ-q4"
      }
    },
    {
      "cell_type": "code",
      "source": [
        "import nltk\n",
        "nltk.download('stopwords')\n",
        "import spacy\n",
        "from nltk.tokenize import RegexpTokenizer\n",
        "from nltk.corpus import stopwords\n",
        "\n",
        "# Load necessary NLP models and stopwords that will be used for data preprocessing\n",
        "nlp = spacy.load('en_core_web_sm', disable=['parser', 'ner'])   # Load the spaCy English language model, disable the parser and named entity recognition for efficiency\n",
        "standard_stop_words = set(stopwords.words('english'))   # Load the English stopwords from NLTK\n",
        "tokenizer = RegexpTokenizer(r'\\w+')   # Define a regular expression tokenizer to remove and punctuation and perform tokenization using NLTK's RegexpTokenizer\n",
        "domain_specific_stopwords = set([\n",
        "    'course', 'play', 'hole', 'green', 'par', 'tee', 'yard', 'golf', 'one', 'bunker', 'fairway', 'leave', 'shot', 'right', 'good', 'club'\n",
        "])\n",
        "\n",
        "# Define a function to preprocess the text data\n",
        "def preprocess_text(text):\n",
        "    \"\"\"\n",
        "    Preprocesses a single document by applying several preprocessing steps:\n",
        "        - Tokenization\n",
        "        - Removal of non-alphabetic tokens and tokens with less than 3 characters\n",
        "        - Conversion to lowercase\n",
        "        - Removal of stopwords\n",
        "        - Removal of domain-specific stopwords\n",
        "        - Lemmatization\n",
        "    Args:\n",
        "        text (str): The original text of the golf course review to be preprocessed\n",
        "    Returns:\n",
        "        str: The preprocessed text of the golf course review\n",
        "    \"\"\"\n",
        "    # Tokenize the text and convert it to lowercase\n",
        "    tokens = [token.lower() for token in tokenizer.tokenize(text) if token.isalpha() and len(token) > 2]\n",
        "    # Remove stopwords and domain-specific stopwords\n",
        "    tokens = [token for token in tokens if token not in (standard_stop_words | domain_specific_stopwords)]\n",
        "    # Lemmatize the tokens\n",
        "    doc = nlp(\" \".join(tokens))\n",
        "    tokens = [token.lemma_ for token in doc if token.lemma_ not in standard_stop_words]\n",
        "    # Return the preprocessed text as a single string\n",
        "    return \" \".join(tokens)\n",
        "\n",
        "# Apply the preprocessing function to the 'review_text' column of the df DataFrame\n",
        "df['cleaned_review_text'] = df['review_text'].apply(preprocess_text)\n",
        "\n",
        "# Create a new 'top100' column to indicate whether the course is ranked in the top 100\n",
        "df['top100'] = df['label'].apply(lambda x: 1 if x == 'top100' else 0)\n",
        "\n",
        "# Display the first few rows of the DataFrame with the cleaned review text\n",
        "df[['review_text', 'cleaned_review_text', 'label', 'top100']].head()"
      ],
      "metadata": {
        "id": "7-h7YKBCaBYd",
        "outputId": "2707c574-9ae4-4c63-cb6f-7b9e4669a04a",
        "colab": {
          "base_uri": "https://localhost:8080/",
          "height": 241
        }
      },
      "execution_count": 9,
      "outputs": [
        {
          "output_type": "stream",
          "name": "stderr",
          "text": [
            "[nltk_data] Downloading package stopwords to /root/nltk_data...\n",
            "[nltk_data]   Unzipping corpora/stopwords.zip.\n"
          ]
        },
        {
          "output_type": "execute_result",
          "data": {
            "text/plain": [
              "                                         review_text  \\\n",
              "0  There’s not much point trying to do a hole-by-...   \n",
              "1  What to Expect:  Pine Valley is the finest gol...   \n",
              "2  “No one but a poet should be allowed to write ...   \n",
              "3  What to Expect:  I don't even feel worthy to w...   \n",
              "4  There’s not many courses as acclaimed, sought ...   \n",
              "\n",
              "                                 cleaned_review_text   label  top100  \n",
              "0  much point try guide pine valley since much we...  top100       1  \n",
              "1  expect pine valley fine planet hold royal flus...  top100       1  \n",
              "2  poet allow write beauty cypress point samuel m...  top100       1  \n",
              "3  expect even feel worthy write review cypress p...  top100       1  \n",
              "4  many course acclaim seek document shinnecock h...  top100       1  "
            ],
            "text/html": [
              "\n",
              "  <div id=\"df-4d93b09a-ccda-4e4f-b439-c7cf2435b747\" class=\"colab-df-container\">\n",
              "    <div>\n",
              "<style scoped>\n",
              "    .dataframe tbody tr th:only-of-type {\n",
              "        vertical-align: middle;\n",
              "    }\n",
              "\n",
              "    .dataframe tbody tr th {\n",
              "        vertical-align: top;\n",
              "    }\n",
              "\n",
              "    .dataframe thead th {\n",
              "        text-align: right;\n",
              "    }\n",
              "</style>\n",
              "<table border=\"1\" class=\"dataframe\">\n",
              "  <thead>\n",
              "    <tr style=\"text-align: right;\">\n",
              "      <th></th>\n",
              "      <th>review_text</th>\n",
              "      <th>cleaned_review_text</th>\n",
              "      <th>label</th>\n",
              "      <th>top100</th>\n",
              "    </tr>\n",
              "  </thead>\n",
              "  <tbody>\n",
              "    <tr>\n",
              "      <th>0</th>\n",
              "      <td>There’s not much point trying to do a hole-by-...</td>\n",
              "      <td>much point try guide pine valley since much we...</td>\n",
              "      <td>top100</td>\n",
              "      <td>1</td>\n",
              "    </tr>\n",
              "    <tr>\n",
              "      <th>1</th>\n",
              "      <td>What to Expect:  Pine Valley is the finest gol...</td>\n",
              "      <td>expect pine valley fine planet hold royal flus...</td>\n",
              "      <td>top100</td>\n",
              "      <td>1</td>\n",
              "    </tr>\n",
              "    <tr>\n",
              "      <th>2</th>\n",
              "      <td>“No one but a poet should be allowed to write ...</td>\n",
              "      <td>poet allow write beauty cypress point samuel m...</td>\n",
              "      <td>top100</td>\n",
              "      <td>1</td>\n",
              "    </tr>\n",
              "    <tr>\n",
              "      <th>3</th>\n",
              "      <td>What to Expect:  I don't even feel worthy to w...</td>\n",
              "      <td>expect even feel worthy write review cypress p...</td>\n",
              "      <td>top100</td>\n",
              "      <td>1</td>\n",
              "    </tr>\n",
              "    <tr>\n",
              "      <th>4</th>\n",
              "      <td>There’s not many courses as acclaimed, sought ...</td>\n",
              "      <td>many course acclaim seek document shinnecock h...</td>\n",
              "      <td>top100</td>\n",
              "      <td>1</td>\n",
              "    </tr>\n",
              "  </tbody>\n",
              "</table>\n",
              "</div>\n",
              "    <div class=\"colab-df-buttons\">\n",
              "\n",
              "  <div class=\"colab-df-container\">\n",
              "    <button class=\"colab-df-convert\" onclick=\"convertToInteractive('df-4d93b09a-ccda-4e4f-b439-c7cf2435b747')\"\n",
              "            title=\"Convert this dataframe to an interactive table.\"\n",
              "            style=\"display:none;\">\n",
              "\n",
              "  <svg xmlns=\"http://www.w3.org/2000/svg\" height=\"24px\" viewBox=\"0 -960 960 960\">\n",
              "    <path d=\"M120-120v-720h720v720H120Zm60-500h600v-160H180v160Zm220 220h160v-160H400v160Zm0 220h160v-160H400v160ZM180-400h160v-160H180v160Zm440 0h160v-160H620v160ZM180-180h160v-160H180v160Zm440 0h160v-160H620v160Z\"/>\n",
              "  </svg>\n",
              "    </button>\n",
              "\n",
              "  <style>\n",
              "    .colab-df-container {\n",
              "      display:flex;\n",
              "      gap: 12px;\n",
              "    }\n",
              "\n",
              "    .colab-df-convert {\n",
              "      background-color: #E8F0FE;\n",
              "      border: none;\n",
              "      border-radius: 50%;\n",
              "      cursor: pointer;\n",
              "      display: none;\n",
              "      fill: #1967D2;\n",
              "      height: 32px;\n",
              "      padding: 0 0 0 0;\n",
              "      width: 32px;\n",
              "    }\n",
              "\n",
              "    .colab-df-convert:hover {\n",
              "      background-color: #E2EBFA;\n",
              "      box-shadow: 0px 1px 2px rgba(60, 64, 67, 0.3), 0px 1px 3px 1px rgba(60, 64, 67, 0.15);\n",
              "      fill: #174EA6;\n",
              "    }\n",
              "\n",
              "    .colab-df-buttons div {\n",
              "      margin-bottom: 4px;\n",
              "    }\n",
              "\n",
              "    [theme=dark] .colab-df-convert {\n",
              "      background-color: #3B4455;\n",
              "      fill: #D2E3FC;\n",
              "    }\n",
              "\n",
              "    [theme=dark] .colab-df-convert:hover {\n",
              "      background-color: #434B5C;\n",
              "      box-shadow: 0px 1px 3px 1px rgba(0, 0, 0, 0.15);\n",
              "      filter: drop-shadow(0px 1px 2px rgba(0, 0, 0, 0.3));\n",
              "      fill: #FFFFFF;\n",
              "    }\n",
              "  </style>\n",
              "\n",
              "    <script>\n",
              "      const buttonEl =\n",
              "        document.querySelector('#df-4d93b09a-ccda-4e4f-b439-c7cf2435b747 button.colab-df-convert');\n",
              "      buttonEl.style.display =\n",
              "        google.colab.kernel.accessAllowed ? 'block' : 'none';\n",
              "\n",
              "      async function convertToInteractive(key) {\n",
              "        const element = document.querySelector('#df-4d93b09a-ccda-4e4f-b439-c7cf2435b747');\n",
              "        const dataTable =\n",
              "          await google.colab.kernel.invokeFunction('convertToInteractive',\n",
              "                                                    [key], {});\n",
              "        if (!dataTable) return;\n",
              "\n",
              "        const docLinkHtml = 'Like what you see? Visit the ' +\n",
              "          '<a target=\"_blank\" href=https://colab.research.google.com/notebooks/data_table.ipynb>data table notebook</a>'\n",
              "          + ' to learn more about interactive tables.';\n",
              "        element.innerHTML = '';\n",
              "        dataTable['output_type'] = 'display_data';\n",
              "        await google.colab.output.renderOutput(dataTable, element);\n",
              "        const docLink = document.createElement('div');\n",
              "        docLink.innerHTML = docLinkHtml;\n",
              "        element.appendChild(docLink);\n",
              "      }\n",
              "    </script>\n",
              "  </div>\n",
              "\n",
              "\n",
              "<div id=\"df-5ad140f9-6394-402b-b126-6a7c34162001\">\n",
              "  <button class=\"colab-df-quickchart\" onclick=\"quickchart('df-5ad140f9-6394-402b-b126-6a7c34162001')\"\n",
              "            title=\"Suggest charts\"\n",
              "            style=\"display:none;\">\n",
              "\n",
              "<svg xmlns=\"http://www.w3.org/2000/svg\" height=\"24px\"viewBox=\"0 0 24 24\"\n",
              "     width=\"24px\">\n",
              "    <g>\n",
              "        <path d=\"M19 3H5c-1.1 0-2 .9-2 2v14c0 1.1.9 2 2 2h14c1.1 0 2-.9 2-2V5c0-1.1-.9-2-2-2zM9 17H7v-7h2v7zm4 0h-2V7h2v10zm4 0h-2v-4h2v4z\"/>\n",
              "    </g>\n",
              "</svg>\n",
              "  </button>\n",
              "\n",
              "<style>\n",
              "  .colab-df-quickchart {\n",
              "      --bg-color: #E8F0FE;\n",
              "      --fill-color: #1967D2;\n",
              "      --hover-bg-color: #E2EBFA;\n",
              "      --hover-fill-color: #174EA6;\n",
              "      --disabled-fill-color: #AAA;\n",
              "      --disabled-bg-color: #DDD;\n",
              "  }\n",
              "\n",
              "  [theme=dark] .colab-df-quickchart {\n",
              "      --bg-color: #3B4455;\n",
              "      --fill-color: #D2E3FC;\n",
              "      --hover-bg-color: #434B5C;\n",
              "      --hover-fill-color: #FFFFFF;\n",
              "      --disabled-bg-color: #3B4455;\n",
              "      --disabled-fill-color: #666;\n",
              "  }\n",
              "\n",
              "  .colab-df-quickchart {\n",
              "    background-color: var(--bg-color);\n",
              "    border: none;\n",
              "    border-radius: 50%;\n",
              "    cursor: pointer;\n",
              "    display: none;\n",
              "    fill: var(--fill-color);\n",
              "    height: 32px;\n",
              "    padding: 0;\n",
              "    width: 32px;\n",
              "  }\n",
              "\n",
              "  .colab-df-quickchart:hover {\n",
              "    background-color: var(--hover-bg-color);\n",
              "    box-shadow: 0 1px 2px rgba(60, 64, 67, 0.3), 0 1px 3px 1px rgba(60, 64, 67, 0.15);\n",
              "    fill: var(--button-hover-fill-color);\n",
              "  }\n",
              "\n",
              "  .colab-df-quickchart-complete:disabled,\n",
              "  .colab-df-quickchart-complete:disabled:hover {\n",
              "    background-color: var(--disabled-bg-color);\n",
              "    fill: var(--disabled-fill-color);\n",
              "    box-shadow: none;\n",
              "  }\n",
              "\n",
              "  .colab-df-spinner {\n",
              "    border: 2px solid var(--fill-color);\n",
              "    border-color: transparent;\n",
              "    border-bottom-color: var(--fill-color);\n",
              "    animation:\n",
              "      spin 1s steps(1) infinite;\n",
              "  }\n",
              "\n",
              "  @keyframes spin {\n",
              "    0% {\n",
              "      border-color: transparent;\n",
              "      border-bottom-color: var(--fill-color);\n",
              "      border-left-color: var(--fill-color);\n",
              "    }\n",
              "    20% {\n",
              "      border-color: transparent;\n",
              "      border-left-color: var(--fill-color);\n",
              "      border-top-color: var(--fill-color);\n",
              "    }\n",
              "    30% {\n",
              "      border-color: transparent;\n",
              "      border-left-color: var(--fill-color);\n",
              "      border-top-color: var(--fill-color);\n",
              "      border-right-color: var(--fill-color);\n",
              "    }\n",
              "    40% {\n",
              "      border-color: transparent;\n",
              "      border-right-color: var(--fill-color);\n",
              "      border-top-color: var(--fill-color);\n",
              "    }\n",
              "    60% {\n",
              "      border-color: transparent;\n",
              "      border-right-color: var(--fill-color);\n",
              "    }\n",
              "    80% {\n",
              "      border-color: transparent;\n",
              "      border-right-color: var(--fill-color);\n",
              "      border-bottom-color: var(--fill-color);\n",
              "    }\n",
              "    90% {\n",
              "      border-color: transparent;\n",
              "      border-bottom-color: var(--fill-color);\n",
              "    }\n",
              "  }\n",
              "</style>\n",
              "\n",
              "  <script>\n",
              "    async function quickchart(key) {\n",
              "      const quickchartButtonEl =\n",
              "        document.querySelector('#' + key + ' button');\n",
              "      quickchartButtonEl.disabled = true;  // To prevent multiple clicks.\n",
              "      quickchartButtonEl.classList.add('colab-df-spinner');\n",
              "      try {\n",
              "        const charts = await google.colab.kernel.invokeFunction(\n",
              "            'suggestCharts', [key], {});\n",
              "      } catch (error) {\n",
              "        console.error('Error during call to suggestCharts:', error);\n",
              "      }\n",
              "      quickchartButtonEl.classList.remove('colab-df-spinner');\n",
              "      quickchartButtonEl.classList.add('colab-df-quickchart-complete');\n",
              "    }\n",
              "    (() => {\n",
              "      let quickchartButtonEl =\n",
              "        document.querySelector('#df-5ad140f9-6394-402b-b126-6a7c34162001 button');\n",
              "      quickchartButtonEl.style.display =\n",
              "        google.colab.kernel.accessAllowed ? 'block' : 'none';\n",
              "    })();\n",
              "  </script>\n",
              "</div>\n",
              "\n",
              "    </div>\n",
              "  </div>\n"
            ],
            "application/vnd.google.colaboratory.intrinsic+json": {
              "type": "dataframe",
              "summary": "{\n  \"name\": \"df[['review_text', 'cleaned_review_text', 'label', 'top100']]\",\n  \"rows\": 5,\n  \"fields\": [\n    {\n      \"column\": \"review_text\",\n      \"properties\": {\n        \"dtype\": \"string\",\n        \"num_unique_values\": 5,\n        \"samples\": [\n          \"What to Expect:  Pine Valley is the finest golf course on the planet. It holds the royal flush of attributes: variety, memorability, tradition, difficulty, and pristine conditions. Plenty of courses want to claim they have 18 signature holes, but Pine Valley can make a stronger argument for that title than any other course in the world. It is hard to imagine that a course of Pine Valley's caliber could be better than it is hyped up to be; but it is. Our friend and host, a longtime Pine Valley member, had this to say, \\\"Pine Valley is underrated as the #1 course in the world.\\\" Pine Valley is so good it is in a league of its own. The walking-only course is set on nearly 200 acres of sandy terrain that features tons of pine trees and marvelous elevation changes. Though often classified as a penal course, the fairway widths are quite generous and the green complexes are spectacular. Identifying the best hole on the course is like trying to pick your favorite child; it is nearly impossible because they are all so good for different reasons. The world class driving range, about a mile from the clubhouse, features precise yardages from each bag stand to each flag in the field so there is no excuses for not being \\\"dialed in\\\" before your round. Lastly, the caddies are all dressed in white, which is a further indication that Pine Valley may actually be heaven on earth!\\n\\nBy the Numbers\\n\\nTees\\tPar\\tYardage\\tRating\\tSlope\\nBlack\\t70\\t7057\\t75.6\\t155\\nRegular\\t70\\t6532\\t72.8\\t153\\n\\nIndividual Hole Analysis\\nSignature Hole:  Honestly, how can you just pick one?! In fact, it might be easier to try and identify a hole that wouldn't be considered the signature hole . . . maybe. Never has this category seemed so futile then when trying to write a review on Pine Valley. Pine Valley really deserves a hole-by-hole review, but since that isn't the format I use I'll simply include photos of a couple of the holes I loved that aren't featured in the rest of the review.\\n\\nBest Par 3:  5th Hole \\u2013 238 Yards \\u2013 Ranked in 1999 among Golf Digest's 99 Greatest Holes in America, the 5th hole at Pine Valley is one of the finest and most difficult one-shotters you'll come across. The tee box to the fifth hole rests behind the clubhouse and travels a totally different direction than the previous par three. Playing uphill from tee to green, your tee shot must carry a water hazard just beyond the tee box before also needing to carry the cross bunker. Most tee shots will come up short and find a portion of the fairway resting in front of the green while tee shots that leak right will find themselves in a deep bunker pinned up next to the trees. This is a very heroic hole where pars should be celebrated like birdies!\\n\\n5th Hole at Pine Valley Golf Club (238 Yard Par 3)\\n\\nBest Par 4:  13th Hole \\u2013 486 Yards \\u2013 Bobby Jones referenced this hole as the greatest par four in the world, and I'm not going to argue. It only ranked behind the 8th at Pebble Beach and 17th at Cypress Point on Golf Digest's list of greatest par 4s in America. The tee box to this hole is tucked back into the tree and affords the golfer only a slivers view of the uphill fairway. After placing your tee shot in the fairway, the golfer is treated to a view of the green and watches the hole unfold as the fairway bottlenecks and then turns left before widening and pushing back the deep waste areas running along the fairway edges. From most tee shots, the straightest line to the green requires challenging the bunkers up the left side of the hole while a large landing area to the right is afforded to golfers not feeling quite as bold. The 13th at Pine Valley is a wonderful challenge that delivers options and excitement every loop you make.\\n\\n13th Hole at Pine Valley Golf Club (486 Yard Par 4)\\n\\nBest Par 5:  15th Hole \\u2013 615 Yards \\u2013 After completing two exceptional holes in the par four 13th and par three 14th, the golfer is handed a treat with the par five 15th which is one of only two such par rated holes on the course. While at some courses the par fives are looked at as a chance to feel some reprieve and score low, it is quite the opposite at Pine Valley. The 15th hole demands a tee shot that will carry the large water hazard off the tee before coming to rest on the left-to-right sloping fairway. Plenty of fairway width is afforded to the golfer initially, but closes down and runs uphill more and more as the green is approached. At 615 yards the hole is long by anyone's standard, but the steady climb uphill makes the hole feel and play even longer and can mentally overcome a golfer that isn't prepared for the challenge. It is a wonderful hole and a fitting challenge for a course of Pine Valley's caliber.\\n\\n15th Hole at Pine Valley Golf Club (615 Yard Par 5)\\n\\nBirdie Time:  10th Hole \\u2013 161 Yard Par 3 \\u2013 The shortest hole on the course isn't short on accolades or impressive features; however it does deliver the best opportunity to score a birdie. The green creates an inland island surrounded by sand and hosts one of the smaller putting surface at the course. The distance is such that dead aim can be taken at most pin locations, but properly guiding your ball into the hole on the sloped putting surface is where the real challenge lies here. With so many challenges at Pine Valley, this is your chance to try and take a stroke back from old man par.\\n\\n10th Hole at Pine Valley Golf Club (161 Yard Par 3)\\nBogey Beware:  7th Hole \\u2013 636 Yard Par 5 \\u2013 The 7th hole boasts one of the largest and most famous interior hazards in all of golf; the notorious Hell's Half Acre bunker. Spanning the entire width of the fairway, the bunker contains natural foliage and runs nearly 100 yards in length, epitomizing Sahara style bunkering. At 636 yards, bogey is already something most golfers will have to concede a bogey on. But with Hell's Half Acre bunker in the middle of the hole, tee balls that don't find the fairway will be forced to punch out short of the bunker before proceeding over. For those not willing to let Hell's Half Acre intimidate them, there is the option of taking your chances on what kind of lie you will get in the heavily travelled sand, but scores rarely finish low with that strategy. Even though this hole encompasses the flattest terrain on the property, there are a myriad of challenges awaiting the golfer that can't hit the ball high and straight.\",\n          \"There\\u2019s not many courses as acclaimed, sought after or documented as Shinnecock Hills Golf Club. Originally built in the late 1800\\u2019s by Willie Davis, with Willy Dunn updating the course a couple years after it opened, C.B. Macdonald with Seth Raynor updating the layout in 1916, and finally, William Flynn, his partner Howard Toomey, and foreman Dick Wilson coming in 1931 to construct basically a new layout.\\n\\nThe design credit is given to William Flynn. The Macdonald golf course is gone, although the land where the current 3rd, 6th and 7th are remain fairly close to Macdonald\\u2019s Shinnecock Hills. Aside from the background, most people are aware of the championship pedigree of \\u2018Shinne\\u2019 and how notoriously difficult it is. It\\u2019s also well-known Shinnecock is one of the best in the world.\\n\\nShinnecock is one of the most difficult courses in the world, but it opens on a fairly gentle note. \\u201cWestwood Ho\\u201d is a 391 yard par 4 playing downhill into the bottom of the property.\\n\\n\\nDriver or three wood are fine off the tee for most. It\\u2019s not overly long and a nice introduction into the golf course.\\n\\nHowever, the \\u201cgentle handshake\\u201d opener is really only on the opening tee shot. The green complexes here are so nasty and aggressive that there\\u2019s not a moment on this golf course you can walk through an approach shot. Ask Tiger Woods\\u2013he hit it over the green here in the 2018 US Open one round and made 7!\\n\\n\\nWith a false front and a fall off over the back, it\\u2019s a difficult iron shot. For those who have played Pinehurst No. 2, the first green complex is similar at No. 2 as it is here, except Shinnecock\\u2019s is maybe three times as extreme.\\n\\n\\nThe second hole is a long par 3 at 221 yards. \\u201cPlateau\\u201d is aptly named, with a green pushed up. A false front kicks balls to the right, while bunkering flanks the left side. Once again, the back edge falls off. The US Open tee here is 250 or so yards\\u2013insanity!\\n\\n\\nThe third is another difficult hole at 470 yards, par 4. \\u201cPeconic,\\u201d named after the Peconic Bay that Shinnecock sits near (and National Golf Links of America sits on), is one of the more appealing tee shots on the golf course.\\n\\n\\nI don\\u2019t remember the exact carry on the bunkers left, but if you\\u2019re a bigger hitter, it\\u2019s best to fly those. Leaving it out to the right leaves quite a long shot into this green, and that\\u2019s something you don\\u2019t want.\\n\\nOne of the more benign greens at Shinne, if such a thing. It\\u2019s only partly raised up. Thankfully, it accepts low, running shots fairly easily (something most will have here).\\n\\n\\nAfter the long, dogleg left, a middle length par 4 swinging to the right awaits at the 4th. \\u201cPump House\\u201d plays 409 yards with bunkering on the inside corner of the dogleg.\\n\\n\\nFlynn\\u2019s biggest strength, in my opinion, is taking basic architecture principals and flipping them on their head, and there\\u2019s potentially no better example than here. On the 4th, bunkering guards the inside corner. Basic architecture knowledge and strategy understanding would suggest keeping it closer to the inside corner, but the opposite is true. Flynn\\u2019s green contouring often dictate play, and here, the best play is to hit it to the outside corner for the best angle in.\\n\\n\\nThe 5th is the first par 5 on the golf course. It\\u2019s probably a good idea to play this hole well\\u2013there\\u2019s only two 5\\u2019s!\\n\\n\\u201cMontauk\\u201d is a brilliant 535 yard golf hole split in the middle by a sandy hollow covered in heather. Keeping it to the right lets the shorter hitters easier, while the left side is a bigger carry. Either side, you gotta make sure you pick your line properly!\\n\\n\\nAs you can see, the front nine at Shinnecock, for the most part, is pretty flat. The land doesn\\u2019t seem too inspiring. However, upon further inspection, you see micro-undulations and little bumps that can make it incredibly difficult to hit the shots you need to. The 5th is a great example.\\n\\nAs you can see from the photo below, I picked the right fairway. It was a cold October morning!\\n\\n\\nThe green on the 5th is insanity, with fall offs everywhere. We had a back right pin, and to our surprise, anything long or right is the wrong miss!\\n\\n\\nYou can see that over the 5th green is not the best spot to me.\\n\\n\\nThe 6th is a pretty difficult hole in general, but picking your line here is a difficult task with the sea of heather and sand in front of you. 456 yards, \\u201cpond\\u201d is not easy.\\n\\n\\nThe namesake comes along on the approach. Unless you missed the fairway, the pond will almost never come into play. It\\u2019s some 50 yards short of the green\\u2013well out of play.\\n\\n\\nThis is another great, dare I say all-world green complex. I won\\u2019t say too much, but hopefully my photo below allows you to see the genius of the shaping here!\\n\\n\\nThe 7th is likely the most famous hole here. In the 2004 US Open, the USGA lost control of the golf course, and the 7th, \\u201cRedan\\u201d, was the main issue. They were watering the green in between groups because balls wouldn\\u2019t stay on the green! That\\u2019s how severe this slope is.\\n\\nBut anyways, as we stepped up, our caddy told us \\u201cRedan\\u201d is french for double bogey, or something. At 189 yards, you wouldn\\u2019t expect double bogeys to come as easy as they do here! But I wouldn\\u2019t know, I made 2 (yes, this is a brag\\u2013please DM Thegolfingcanuck on Instagram about it).\\n\\n\\nIn terms of the \\u201credan\\u201d template, I don\\u2019t know if this is the best rendition. Actually, I think many people turn to next door at National Golf Links of America as a good example. The biggest issue with calling this \\u201credan\\u201d is the ground game isn\\u2019t really encouraged like all the best redans. Typically, the best redans allow the bail out short right to let the natural movement of the land guide the ball in. However, here, that\\u2019s not happening as anything short collects at the bottom.\\n\\n\\nSo that leaves you flying the shot onto the green, which is impossible. There\\u2019s only about a 7 x 7 square of area on the front portion of the green you can land it on that it will stay on the green. I wish I would\\u2019ve hit mine better to see, but the tilt on this is pure madness. Take a look below.\\n\\n\\nWhat\\u2019s even crazier is this might be the easiest par 3 here!\\n\\nThis is the best advice I will ever give. If you have a birdie in you, consider making it on the 8th hole. At 394 yards, it\\u2019s one of the shorter par 4\\u2019s at Shinne.\\n\\n\\nIt still requires quite a good short iron in, but it\\u2019s the flattest hole here (wonderfully named \\u201clowlands\\u201d). A massive false front and after that it runs hard to the back is all you need to negotiate with.\\n\\n\\nI say made a birdie on 8 because you\\u2019re now into a difficult three hole stretch. Upon writing this, the 9th, \\u201cBen Nevis\\u201d, starts the best three hole stretch I\\u2019ve seen.\\n\\n\\nA 438 yard par 4, this hole moves to the left working back up to the base of the clubhouse. You start getting into much more undulating topography as well, giving a ton of wonky lies in the fairway.\\n\\nWith a long or mid iron in (you will have more club in that you\\u2019d think for a 440 par 4), it is as intimidating as anything. Playing up to the top, you have to hoist a club up to have any chance.\\n\\n\\nThankfully, the green bowls in from the right. If you need to miss one, miss it right or long, but not too right as it\\u2019ll be in the mens locker room.\\n\\n\\nBut don\\u2019t miss short.\\n\\n\\nTo get a sense of the scale here, below is the view of the 9th green from the 18th.\\n\\n\\nThe 9th is a great hole, but my vote for the best hole at Shinnecock is the 415 yard par 4, 10th \\u201cEastward Ho.\\u201d Playing over the topography, it\\u2019s a blind tee shot.\\n\\n\\nThe land is incredibly severe over the ridge that you will almost definitely have a messed up stance. Compounding that with the shot that awaits, it becomes an incredible approach shot. This is in my upper tier of favorite holes ever.\\n\\n\\nWith the green site cut on the other side of the depression, anything short runs back about 60 yards. Below is a view from where each ball would collect (thankfully, I didn\\u2019t hit it here).\\n\\n\\nAnything long isn\\u2019t much better either, but at least you\\u2019re chipping back into the upslope (oh yeah, this green runs away from you at about 3% or 4%).\\n\\n\\nLooking back, you can see the roller coaster topography that lies in the fairway. It\\u2019s a rare hole where you can\\u2019t overpower it. With driver, you likely will have an awkward flip wedge in because the ball would run down forever. With restraint off the tee, you have a full club in (a good thing).\\n\\n\\nTo finish off the all-world three hole stretch, we arrive at what has been dubbed the \\u201cshortest par 5 in golf.\\u201d In reality, \\u201cHill Head,\\u201d the 159 yard par 3, 11th, is just an incredibly difficult par 3 up the hill.\\n\\n\\nIt\\u2019s like hitting onto a tabletop. There\\u2019s very little square footage here.\\n\\n\\nAnything long and left is absolutely dead chipping back downhill. This is where I hit it, but I made a \\u201cbirdie\\u201d 4 on this par 5 (doesn\\u2019t count? Really?). I was happy with a 4 here after missing it in the one spot you have to avoid.\\n\\nThe 12th is another excellent hole. In reality, there\\u2019s not a weak hole here (obviously). The back, however, continues to deliver all-world after all-world holes. 469 yards, \\u201cTuckahoe\\u201d plays over Tuckahoe Road.\\n\\n\\nShinnecock isn\\u2019t exactly the most difficult driving course in the world. As you can see, there\\u2019s a fair amount of width out here. The green complexes hold up extremely well, and the 12th is again difficult. In similar fashion to the 3rd, it rises ever-so-slightly and then falls back away from the player, but there\\u2019s ample room to hit a long iron in here.\\n\\n\\nThe 13th is the shortest par 4 on the course at 374 yards. The hole moves pretty hard to the right around bunkering, but again, keeping it out to the outside corner on the left allows you to be hitting shots directly into the slope to control where the ball ends up as much as possible.\\n\\n\\nFor those who remember, this is the hole where Phil Mickelson decided to hit a moving ball before it rolled down the mega false front.\\n\\n\\nThe 14th, \\u201cThoms Elbow,\\u201d is another great\\u2013no, all world\\u2013hole. 463 yards, it plays through some wonderful rolling land.\\n\\n\\nThe approach shot plays uphill to a green that moves to the middle. It\\u2019s one of the rare holes here\\u2013with 9\\u2013that collects shots instead of repelling them.\\n\\n\\nA closer look at the green complex. It\\u2019s almost a saddle style green, with the two outside pin positions are higher than the middle portion.\\n\\n\\nThe 15th is another wonderful mid length par 4. Playing down into the valley the front nine mainly occupied, it\\u2019s a good tee shot to let one go.\\n\\n\\nNo doubt, it\\u2019s a well guarded green complex. Another one that runs away from you, it\\u2019s a rare forced golf shot that needs to be played high in the air. The beauty of Shinnecock is yes, the greens run away from you, but you\\u2019re often thinking of finding the false front to bump it into. You\\u2019re really not thinking about the aerial game outside of 7, 9, 10, 11, and 15. Everything else I found myself flighting shots in.\\n\\n\\nThe 16th makes the trek back towards the clubhouse. The second par 5 on the golf course, \\u201cShinnecock\\u201d is a 540 yard three shotter.\\n\\n\\nAfter you get the ball in play off the tee, the layup can be quite difficult. There\\u2019s quite a few bunkers on this hole alone, so navigating them is a challenge.\\n\\n\\nThe green complex is pitched hard off the left, naturally falling to the low point of the property (3 fairway) and away from the high portion (11 green/12 tee). It is a splendid par 5.\\n\\n\\nThe 17th is the final par 3 on the course at 180 yards. Interestingly titled \\u201cEden,\\u201d this plays nothing like an eden template.\\n\\n\\nIronically, it almost plays as a redan, with the green moving down and to the left. I don\\u2019t think it is, but it\\u2019s much closer to a redan than an eden! You can get a grasp of the green complex below.\\n\\n\\nThe 18th is another outstanding, difficult par 4. Doglegging to the left, like 9, it avoids the cliche uphill par 4 finisher at the base of the clubhouse.\\n\\n\\nFor the big hitters, the line is just to left of the caddies over the bunker. For the shorter hitters, playing out right is the play. With some undulating topography yet again complicating things, it\\u2019s a tough finisher at 426 yards. A bunker left, two short, and one right await players. The green complex has some of the wackiest, wild, and unpredictable movement anywhere. It makes for a ton of fun. If that pin is back-left, you\\u2019d have to hit it out right. If it\\u2019s on the right side, cutting the corner is the play. A wonderful hole to end.\\n\\n\\nHard to say anything new about Shinnecock, but it blew my expectations away still. The beauty of Flynn\\u2019s architecture here is it\\u2019s a model you could adapt. Fallaway greens are rare in modern architecture, yet they shouldn\\u2019t be. They remain entirely playable, while being difficult enough to challenge the worlds best. Shinnecock Hills is a wonderful case study on how difficult short grass and angles can be.\\n\\nIs it the worlds best? Hard to say so early. The only course I\\u2019ve played that would be close to Shinne in quality is Merion Golf Club\\u2019s East course. If someone told me the best course in the world was Shinnecock Hills, I would be able to see it fairly easily. An absolute bucket list course that I\\u2019ll be dreaming about throughout social distancing! (this last sentence will age well).\",\n          \"\\u201cNo one but a poet should be allowed to write of the beauties of the Cypress Point Club\\u2026\\u201d \\u2013 Samuel Morse\\n\\nI had an early morning tee time at Cypress Point, and the solitary drive down from San Francisco allowed plenty of time to reflect on the upcoming round. I purposefully drove the scenic California Highway 1 all the way down to coast early that morning, and anticipation for the round peaked as I pulled onto the famous 17 Mile Drive.\\nDSC00792I pulled past the often photographed \\u201cCypress Point Club \\u2013 Members Only\\u201d signs and walked into the pro shop both nervous and incredibly excited for my round of golf. The club\\u2019s professional staff immediately greeted me, and made me feel like I was at my home club. The head pro talked to me as if I was an old friend, offering a tour of the locker room and his assistant chatted with me at length about having lived in St Andrews. Their hospitality made me feel very welcome and added a great element to the experience. I was introduced to my caddie for the day, Marty, a 78 year old who had spent over 25 years at the club, and we set off on a brisk Monterey Peninsula morning!\\n\\n\\nAs I do with nearly all rounds, I read as much as possible about Cypress Point Club before making the journey out to California. On the flight from North Carolina, I combed through Geoff Shackleford\\u2019s, Alister Mackenzie\\u2019s Cypress Point Club. Two people played the main roles in creating Cypress Point. The first person is Samuel Morse, who was the main developer for much of the Monterey Peninsula area, including Pebble Beach Golf Links. Morse hired the second major name, Marion Hollins, who recruited members, personally hired Alister MacKenzie, and oversaw much of the course construction. She was an excellent player in her own right, and it was her eye for detail and quality that took Cypress to the next level. Both founders had the vision and business knowledge to conceive and build one of the best golf courses in the world. Additionally, the club was built and created during a time when most were failing, the Great Depression. The first round of golf was played at Cypress Point in August, 1928.\\n\\nWhenever I play a particularly good golf course, I look back on the round and try to encapsulate in my mind what made it a particularly great design. In a number of cases, such as Pine Valley, it is difficult to pick out a single weak hole. That was the case at Cypress Point. It was certainly one of the best and most picturesque settings I have ever had for a round of golf, but the strength of the design was never compromised for the view. \\n\\nHole #1 \\u2013 420 yards\\nThe opening hole plays to a wide fairway with a group of fairway bunkers on the left. The approach, seen in the photo above, plays uphill to a large green. \\n\\nHole #2 \\u2013 549 yards\\nThe second hole requires a carry to reach the fairway, which works left towards the green. Longer hitters can cut off more of the fairway, leaving a shorter second shot into this fairly long par 5. Beautiful homes line the second fairway, nearly all of which are owned by Cypress Point members.\\n\\nHole #3 \\u2013 156 yards\\n DSC00774 Five bunkers guard this par 3, which provides a visually intimidating view from the tee box. MacKenzie had a theory of making holes appear more difficult than they actually were, and the 3rd is a great example.\\n\\nHole #4 \\u2013 383 yards\\n\\nMacKenzie played visual tricks from this tee box. It looks like a sea of bunkers directly in the landing area, and the temptation is to try and \\u201cthread the needle\\u201d down the left side of the fairway. Thanks to my sage caddie, Marty, I knew there was plenty of room  in the landing area, and took my tee ball directly at the right fairway bunkers. A caddie was crucial during this round.\\n\\nHole #5 \\u2013 491 yards\\n\\nThe 5th is another bunkering masterclass. The bunkers on the right side of the fairway were not in range for me from the tips, but longer hitters, or forward tees, may bring them into play. Layups need to stay about 80-100 yards short of the green to avoid bunkers and leave a wedge into a two tiered sloping putting surface.\\n\\nHole #6 \\u2013 521 yards\\n\\nThe second of these back-to-back par 5s is reachable with the correct tee shot. A draw off the left hand side of the right fairway bunkers leaves a lengthy, but reachable, second shot into the green.\\n\\nHole #7 \\u2013 170 yards\\n\\nI took an extra club on this beautiful par 3. An area left of the green allows for shots to kick right onto the putting surface. The pin was tucked in the right corner during my round.\\n\\nHole #8 \\u2013 369 yards\\n\\nThe 8th is the only blind tee shot at Cypress Point. A solid shot just right of the lone tree cuts the corner perfectly. Bolder players can cut off more or less depending on wind and bravery. A gargantuan dune swallows up any balls falling short of the fairway. A pair of deer followed us within 30 feet for the entirety of this hole.\\n\\nHole #9 \\u2013 289 yards\\n\\nThis short par 4 is drivable for longer hitters. My trusty caddie had taken Phil Mickelson for a loop at Cypress, and Phil hit his \\u201cPhrankenwood\\u201d 3-wood to 11 feet. The green is very shallow, sloping, and long as seen in the photo above taken from the back left corner of the putting surface.\\n\\nHole #11 \\u2013 440 yards\\n\\nThe drive on number 11 is straightforward, and in hindsight I should not have hit my driver. You may be able to spot my ball barely short of the right hand cross bunker. The bunkering on this hole creates a stunning view with a chute all the way to the green. The dune behind the green frames the hole nicely.\\n\\nHole #13 \\u2013 366 yards\\n\\nMarty turned to me on the tee at 13 and said, \\u201cThis is a birdie hole.\\u201d I didn\\u2019t even want to play this hole\\u2026 I wanted to sit down on the tee box and enjoy the view for the rest of the day! The pin was in a receptive position on this sloping green, and I barely missed my birdie putt.\\n\\nHole #15 \\u2013 135 yards\\n\\nThe 15th is one of my favorite short par 3s that I have ever played. The 135 yard tee shot is directly over the Pacific Ocean. A pod of seals made plenty of noise as my adrenaline pumped during this tee shot. I like to think they were applauding the shot, which ended 8 feet from the hole. I sank the birdie, meaning I have now birdied arguably the two most famous par 3s in golf!\\n\\nHole #16 \\u2013 233 yards\\n\\nThe 16th is incredibly tough. The hole was a 240 yard shot during my round, and the carry directly towards the green was right at 225 yards. I decided to hit a punch driver intending for my miss to land in a greenside bunker. Shorter hitters have the option of playing out to the left to a fairway area, leaving a wedge to the green. I\\u2019d take my bogey and run on this hole!\\n\\nHole #17 \\u2013 386 yards\\n\\nI hit driver from this tee box aiming slightly left of the group of fairway trees. In retrospect, I should have hit a hybrid and hit a longer iron into the green. My ball trickled into a bunker just left of the trees, which completely blocked me out from the green. It takes a perfect drive to have a clear shot to the green.\\n\\nHole #18 \\u2013 343 yards\\n\\nThe 18th hole at Cypress gains lots of criticism. I heard varying reviews of the hole before my round, and even my caddie called it a \\u201cconnector hole\\u201d simply reaching back to the clubhouse. I didn\\u2019t totally agree. The tee shot is very demanding and takes a long cut in order to have a clear shot to the green. Even with what I thought was a great tee shot, I was blocked out by a tree, as seen in the lower of the two photos above. If you\\u2019ve played the course before, please comment with your thoughts on number 18!\\n\\nMy round at Cypress Point marked my 26th Top 100 in the World course played. Each course has been unique and incredibly enjoyable, but only at a handful was I treated better than at Cypress. The combination of the setting, history, prestige, and hospitality made it a day that I will never forget.\"\n        ],\n        \"semantic_type\": \"\",\n        \"description\": \"\"\n      }\n    },\n    {\n      \"column\": \"cleaned_review_text\",\n      \"properties\": {\n        \"dtype\": \"string\",\n        \"num_unique_values\": 5,\n        \"samples\": [\n          \"expect pine valley fine planet hold royal flush attribute variety memorability tradition difficulty pristine condition plenty course want claim signature hole pine valley make strong argument title world hard imagine pine valley caliber could well hype friend host longtime pine valley member say pine valley underrate world pine valley league walking set nearly acre sandy terrain feature ton pine tree marvelous elevation change though often classify penal width quite generous complex spectacular identifying well like try pick favorite child nearly impossible different reason world class driving range mile clubhouse feature precise yardage bag stand flag field excuse dial round lastly caddie dress white indication pine valley may actually heaven earth number tee yardage rating slope black regular individual analysis signature honestly pick fact might easier try identify consider signature maybe never category seem futile try write review pine valley pine valley really deserve review since format use simply include photo couple hole love feature rest review good yard rank among digest great hole america pine valley fine difficult shotter come across box fifth rest behind clubhouse travel totally different direction previous three playing uphill must carry water hazard beyond box also need carry cross shot come short find portion rest front shot leak find deep pin next tree heroic par celebrate like birdie pine valley well yard bobby jones reference great four world go argue rank behind pebble beach cypress point digest list greatest america box tuck back tree afford golfer sliver view uphill place golfer treat view watch unfold bottleneck turn leave widen push back deep waste area run along edge shot straight line require challenge bunker leave side large landing area afford golfer feel quite bold pine valley wonderful challenge deliver option excitement every loop make pine valley good yard complete two exceptional hole four three golfer hand treat five two rate hole course five look chance feel reprieve score low quite opposite pine valley demand carry large water hazard come rest leave slope plenty width afford golfer initially close run uphill approach yard long anyone standard steady climb uphill make feel even long mentally overcome golfer prepared challenge wonderful fitting challenge pine valley caliber pine valley birdie time short short accolade impressive feature however deliver good opportunity score birdie create inland island surround sand host small put surface distance dead aim take pin location properly guide ball slope put surface real challenge lie many challenge pine valley chance try take stroke back old man pine valley bogey beware boast large famous interior hazard notorious hell half acre span entire width contain natural foliage run nearly yard length epitomize sahara style bunker yard bogey already something golfer concede bogey hell half acre middle ball find force punch short proceeding willing let hell half acre intimidate option take chance kind lie get heavily travel sand score rarely finish low strategy even though encompasse flat terrain property myriad challenge await golfer hit ball high straight\",\n          \"many course acclaim seek document shinnecock hill originally build late willie davis willy dunn update couple year open macdonald seth raynor update layout finally william flynn partner howard toomey foreman dick wilson come construct basically new layout design credit give william flynn macdonald go although land current remain fairly close macdonald shinnecock hill aside background people aware championship pedigree shinne notoriously difficult also well know shinnecock good world shinnecock difficult course world open fairly gentle note westwood play downhill bottom property driver three wood fine overly long nice introduction however gentle handshake opener really open complex nasty aggressive moment walk approach ask tiger wood hit open round make false front fall back difficult iron play pinehurst first complex similar except shinnecock maybe three time extreme second long yard plateau aptly name push false front kick ball bunker flank leave side back edge fall open yard insanity third another difficult yard peconic name peconic bay shinnecock sit near national links america sit appeal shot remember exact carry bunker leave big hitter well fly leave leave quite long something want benign green shinne thing partly raise thankfully accept low running shot fairly easily something long dogleg leave middle length swinge await pump house play yard bunker inside corner dogleg flynn big strength opinion take basic architecture principal flip head potentially well example bunker guard inside corner basic architecture knowledge strategy understanding would suggest keep close inside corner opposite true flynn contouring often dictate well hit outside corner good angle first probably idea well two montauk brilliant split middle sandy hollow cover heather keeping let short hitter easy left side big carry either side get make sure pick line properly see front nine shinnecock part pretty flat land seem inspire however upon inspection see micro undulation little bump make incredibly difficult hit shot need great example see photo pick cold october morning insanity fall everywhere back pin surprise anything long wrong miss see good spot pretty difficult general picking line difficult task sea heather sand front yards pond easy namesake come along approach unless miss pond almost never come yard short well another great dare say world complex say much hopefully photo allow see genius shape likely famous open usga lose control redan main issue water group ball stay severe slope anyways step caddy tell redan french double bogey something yard expect double bogey come easy know make yes brag please thegolfingcanuck instagram term redan template know good rendition actually think many people turn next door national links america example big issue call redan ground game really encourage like good redan typically good redans allow bail short let natural movement land guide ball however happen anything short collect bottom leave fly onto impossible square area front portion land stay wish would hit mine well see tilt pure madness take look even crazy might easy good advice ever give birdie consider make yard short shinne still require quite short iron flat wonderfully name lowland massive false front run hard back need negotiate say make birdie difficult three stretch upon write ben nevis start well three stretch see move leave work back base clubhouse start get much undulate topography well give ton wonky lie long mid iron think intimidate anything play top hoist chance thankfully bowl need miss miss long men locker room miss short get sense scale view great vote good shinnecock eastward play topography blind land incredibly severe ridge almost definitely mess stance compounding await become incredible approach upper tier favorite hole ever site cut side depression anything short run back yard view ball would collect thankfully hit anything long much well either least chip back upslope yeah run away look back see roller coaster topography lie rare overpower driver likely awkward flip wedge ball would run forever restraint full thing finish world three stretch arrive dub short reality hill head incredibly difficult hill like hit onto tabletop little square footage anything long leave absolutely dead chip back downhill hit make birdie count really happy miss spot avoid another excellent reality weak obviously back however continue deliver world world hole yard tuckahoe play tuckahoe road shinnecock exactly difficult driving world see fair amount width complex hold extremely well difficult similar fashion rise ever slightly fall back away player ample room hit long iron short yard move pretty hard around bunker keep outside corner leave allow hit shot directly slope control ball end much possible remember phil mickelson decide hit move ball roll mega false front thom elbow another great world yard play wonderful rolling land approach play uphill move middle rare hole collect shot instead repel close look complex almost saddle style two outside pin position high middle portion another wonderful mid length play valley front nine mainly occupy let doubt well guard complex another run away rare force need play high air beauty shinnecock yes green run away often think find false front bump really think aerial game outside everything else find flight shot make trek back towards clubhouse second shinnecock three shotter get ball layup quite difficult quite bunker alone navigate challenge complex pitch hard left naturally fall low point property away high portion splendid final yard interestingly title eden play nothing like eden template ironically almost play redan move left think much close redan eden get grasp complex another outstanding difficult doglegging leave like avoid cliche uphill finisher base clubhouse big hitter line leave caddie short hitter play undulate topography yet complicate thing tough finisher yard leave two short await player complex wackiest wild unpredictable movement anywhere make ton fun pin back left hit side cut corner wonderful end hard say anything new shinnecock blow expectation away still beauty flynn architecture model could adapt fallaway green rare modern architecture yet remain entirely playable difficult enough challenge world good shinnecock hill wonderful case study difficult short grass angle world well hard say early play would close shinne quality merion east someone tell good world shinnecock hill would able see fairly easily absolute bucket list dream throughout social distancing last sentence age well\",\n          \"poet allow write beauty cypress point samuel morse early morning time cypress point solitary drive san francisco allow plenty time reflect upcoming round purposefully drive scenic california highway way coast early morning anticipation round peak pull onto famous mile drive pull past often photograph cypress point member sign walk pro shop nervous incredibly excited round professional staff immediately greet make feel like home head pro talk old friend offer tour locker room assistant chat length live andrews hospitality make feel welcome add great element experience introduce caddie day marty year old spend year set brisk monterey peninsula morning nearly round read much possible cypress point make journey california flight north carolina comb geoff shackleford alister mackenzie cypress point two people play main role create cypress point first person samuel morse main developer much monterey peninsula area include pebble beach link morse hire second major name marion hollin recruit member personally hire alister mackenzie oversee much construction excellent player eye detail quality take cypress next level founder vision business knowledge conceive build good course world additionally build create time fail great depression first round play cypress point august whenever particularly look back round try encapsulate mind make particularly great design number case pine valley difficult pick single weak case cypres point certainly good picturesque setting ever round strength design never compromise view yard opening play wide group bunker leave approach see photo play uphill large yard second require carry reach work leave towards long hitter cut leave short second fairly long beautiful home line second nearly cypress point member yard five bunker guard provide visually intimidate view box mackenzie theory make hole appear difficult actually great example yard mackenzie play visual trick box look like sea bunker directly land area temptation try thread needle leave side thank sage caddie marty know plenty room landing area take ball directly bunker caddie crucial round yard another bunker masterclass bunker side range tip long hitter forward tee may bring layup need stay yard short avoid bunker wedge two tiere slope put surface yard second back back reachable correct draw leave hand side bunker leave lengthy reachable second yard take extra beautiful area leave allow shot kick onto put surface pin tuck corner round yard blind cypress point solid lone tree cut corner perfectly bolder player cut less depend wind bravery gargantuan dune swallow ball fall short pair deer follow within foot entirety yard short drivable long hitter trusty caddie take phil mickelson loop cypress phil hit phrankenwood wood foot shallow slope long see photo take back left corner put surface yard drive number straightforward hindsight hit driver may able spot ball barely short hand cross bunkering create stunning view chute way dune behind frame nicely yards marty turn say birdie even want want sit box enjoy view rest day pin receptive position slope barely miss birdie putt yard favorite short ever play directly pacific ocean pod seal make plenty noise adrenaline pump like think applaud ended foot sink birdie meaning birdie arguably two famous yard incredibly tough round carry directly towards yard decide hit punch driver intend miss land greenside short hitter option play leave area leave wedge take bogey run yard hit driver box aim slightly leave group tree retrospect hit hybrid hit long iron ball trickle leave tree completely block take perfect drive clear yard cypress gain lot criticism hear vary review round even caddie call connector simply reach back clubhouse totally agree demand take long cut order clear even think great block tree see low two photo play please comment thought number round cypress point mark top world play unique incredibly enjoyable handful treat well cypress combination set history prestige hospitality make day never forget\"\n        ],\n        \"semantic_type\": \"\",\n        \"description\": \"\"\n      }\n    },\n    {\n      \"column\": \"label\",\n      \"properties\": {\n        \"dtype\": \"category\",\n        \"num_unique_values\": 1,\n        \"samples\": [\n          \"top100\"\n        ],\n        \"semantic_type\": \"\",\n        \"description\": \"\"\n      }\n    },\n    {\n      \"column\": \"top100\",\n      \"properties\": {\n        \"dtype\": \"number\",\n        \"std\": 0,\n        \"min\": 1,\n        \"max\": 1,\n        \"num_unique_values\": 1,\n        \"samples\": [\n          1\n        ],\n        \"semantic_type\": \"\",\n        \"description\": \"\"\n      }\n    }\n  ]\n}"
            }
          },
          "metadata": {},
          "execution_count": 9
        }
      ]
    },
    {
      "cell_type": "markdown",
      "source": [
        "**4. Split the dataset into training, validation, and testing sets**"
      ],
      "metadata": {
        "id": "Jf5E0oQhbvTA"
      }
    },
    {
      "cell_type": "code",
      "source": [
        "from sklearn.model_selection import train_test_split\n",
        "# First Split: 70% training, the remaining 30% for validation and testing\n",
        "train_df, remaining = train_test_split(df, test_size=0.3, stratify=df['top100'], random_state=42)\n",
        "\n",
        "# Second Split: 50% of the remaining data for validation, the other 50% for testing\n",
        "val_df, test_df = train_test_split(remaining, test_size=0.5, stratify=remaining['top100'], random_state=42)\n",
        "\n",
        "# Check the shape of the training, validation, and test sets\n",
        "print(f\"Training Dataset Shape: {train_df.shape}\")\n",
        "print(f\"Validation Dataset Shape: {val_df.shape}\")\n",
        "print(f\"Test Dataset Shape: {test_df.shape}\")"
      ],
      "metadata": {
        "id": "s3gojF8fburt",
        "outputId": "6d7970b0-435a-4ec9-bd38-9bbf995405fe",
        "colab": {
          "base_uri": "https://localhost:8080/"
        }
      },
      "execution_count": 10,
      "outputs": [
        {
          "output_type": "stream",
          "name": "stdout",
          "text": [
            "Training Dataset Shape: (84, 12)\n",
            "Validation Dataset Shape: (18, 12)\n",
            "Test Dataset Shape: (18, 12)\n"
          ]
        }
      ]
    },
    {
      "cell_type": "markdown",
      "source": [
        "**5. Create Tensorflow Dataset**\n",
        "\n",
        "We will define the function `create_dataset` to create a Tensorflow Dataset from the cleaned review text and label columns of the dataframe.\n",
        "\n",
        "The function is used to create three Tensorflow Datasets (train_ds,  val_ds, and test_ds) from the respective subsets of the cleaned review text and label columns."
      ],
      "metadata": {
        "id": "ODAP5QXAb6YZ"
      }
    },
    {
      "cell_type": "code",
      "source": [
        "def create_dataset(dataframe, shuffle=True, batch_size=32):\n",
        "    \"\"\"\n",
        "    Create a TensorFlow Dataset from the cleaned review text and label columns of the given dataframe.\n",
        "\n",
        "    Args:\n",
        "        dataframe (pandas.DataFrame): The dataframe containing the cleaned review text and label columns.\n",
        "        shuffle (bool, optional): Whether to shuffle the dataset. Defaults to True.\n",
        "        batch_size (int, optional): The batch size for the dataset. Defaults to 32.\n",
        "\n",
        "    Returns:\n",
        "        tf.data.Dataset: The TensorFlow Dataset created from the dataframe.\n",
        "    \"\"\"\n",
        "    ds = tf.data.Dataset.from_tensor_slices((dataframe['cleaned_review_text'].values, dataframe['top100'].values))\n",
        "    if shuffle:\n",
        "        ds = ds.shuffle(buffer_size=len(dataframe))\n",
        "    ds = ds.batch(batch_size)\n",
        "    ds = ds.prefetch(tf.data.AUTOTUNE)\n",
        "    return ds\n",
        "\n",
        "# Create the Tensorflow Datasets\n",
        "train_ds = create_dataset(train_df)\n",
        "val_ds = create_dataset(val_df)\n",
        "test_ds = create_dataset(test_df)"
      ],
      "metadata": {
        "id": "xm0UNwhtb6A6"
      },
      "execution_count": 11,
      "outputs": []
    },
    {
      "cell_type": "markdown",
      "source": [
        "**6. Load the BERT pre-processing model and encoder**\n",
        "\n",
        "Pre-processing model:\n",
        "- We are using a bert_en_uncased preprocessing module for the BERT model.\n",
        "- This is used to pre-process the input text data, which will include tokenization,\n",
        "  conversion to lowercase, and generation of special tokens, like [CLS] and [SEP]--\n",
        "  which are required for the BERT model.\n",
        "\n",
        "Encoder:\n",
        "- We are also using a bert_en_uncase encoder module for the BERT model.\n",
        "- This is used to take the pre-processed input text data and generate contextualized\n",
        "  representations for the input text.\n",
        "- As indicated by L-12_H-768_A-12, this model has 12 layers, a hidden size of 768, and\n",
        "  an attention head size of 12."
      ],
      "metadata": {
        "id": "FgDHk7U7cLQh"
      }
    },
    {
      "cell_type": "code",
      "source": [
        "# Define the BERT pre-processing model and the encoder\n",
        "tfhub_handle_preprocess = \"https://tfhub.dev/tensorflow/bert_en_uncased_preprocess/3\"\n",
        "tfhub_handle_encoder = \"https://tfhub.dev/tensorflow/bert_en_uncased_L-12_H-768_A-12/4\"\n",
        "\n",
        "# Load the BERT pre-processing model and the encoder\n",
        "preprocessor = hub.KerasLayer(tfhub_handle_preprocess)\n",
        "encoder = hub.KerasLayer(tfhub_handle_encoder, trainable=True)"
      ],
      "metadata": {
        "id": "q_GdgncNcMP6"
      },
      "execution_count": 12,
      "outputs": []
    },
    {
      "cell_type": "markdown",
      "source": [
        "**7. Create the BERT Classification Modle**"
      ],
      "metadata": {
        "id": "MyPgeoZ2dYxr"
      }
    },
    {
      "cell_type": "code",
      "source": [
        "def build_classifier_model():\n",
        "    \"\"\"\n",
        "    Builds a classifier model using BERT for text classification.\n",
        "\n",
        "    Returns:\n",
        "        tf.keras.Model: The built classifier model.\n",
        "\n",
        "    This function builds a classifier model using BERT for text classification. It takes in a string input\n",
        "    and preprocesses it using the BERT preprocessing model. Then, it encodes the preprocessed input\n",
        "    using the BERT encoder. The encoded output is passed through a dropout layer and a dense layer with\n",
        "    a single output unit. The output of the dense layer is the final output of the classifier model.\n",
        "\n",
        "    The input to the model is a string tensor of shape `(None,)`, where `None` represents the batch size.\n",
        "    The output of the model is a tensor of shape `(None, 1)`, where `None` represents the batch size.\n",
        "\n",
        "    Note:\n",
        "        - The BERT preprocessing model and encoder are loaded from the specified URLs.\n",
        "        - The dropout layer has a dropout rate of 0.1.\n",
        "        - The dense layer has a single output unit with no activation function.\n",
        "    \"\"\"\n",
        "    text_input = tf.keras.layers.Input(shape=(), dtype=tf.string, name='text')\n",
        "    preprocessing_layer = hub.KerasLayer(tfhub_handle_preprocess, name='preprocessing')\n",
        "    encoder_inputs = preprocessing_layer(text_input)\n",
        "    encoder = hub.KerasLayer(tfhub_handle_encoder, trainable=True, name='BERT_encoder')\n",
        "    outputs = encoder(encoder_inputs)\n",
        "    net = outputs['pooled_output']\n",
        "    net = tf.keras.layers.Dropout(0.1)(net)\n",
        "    net = tf.keras.layers.Dense(1, activation=None, name='classifier')(net)\n",
        "    return tf.keras.Model(text_input, net)"
      ],
      "metadata": {
        "id": "nv_yFglJdbev"
      },
      "execution_count": 13,
      "outputs": []
    },
    {
      "cell_type": "code",
      "source": [
        "# Create the classifier model and print its summary\n",
        "classifier_model = build_classifier_model()\n",
        "classifier_model.summary()"
      ],
      "metadata": {
        "id": "gmB_muJwdfQC",
        "outputId": "24a0ac4c-22d4-4cd5-8a3b-dbda36efaa94",
        "colab": {
          "base_uri": "https://localhost:8080/"
        }
      },
      "execution_count": 14,
      "outputs": [
        {
          "output_type": "stream",
          "name": "stdout",
          "text": [
            "Model: \"model\"\n",
            "__________________________________________________________________________________________________\n",
            " Layer (type)                Output Shape                 Param #   Connected to                  \n",
            "==================================================================================================\n",
            " text (InputLayer)           [(None,)]                    0         []                            \n",
            "                                                                                                  \n",
            " preprocessing (KerasLayer)  {'input_mask': (None, 128)   0         ['text[0][0]']                \n",
            "                             , 'input_type_ids': (None,                                           \n",
            "                              128),                                                               \n",
            "                              'input_word_ids': (None,                                            \n",
            "                             128)}                                                                \n",
            "                                                                                                  \n",
            " BERT_encoder (KerasLayer)   {'encoder_outputs': [(None   1094822   ['preprocessing[0][0]',       \n",
            "                             , 128, 768),                 41         'preprocessing[0][1]',       \n",
            "                              (None, 128, 768),                      'preprocessing[0][2]']       \n",
            "                              (None, 128, 768),                                                   \n",
            "                              (None, 128, 768),                                                   \n",
            "                              (None, 128, 768),                                                   \n",
            "                              (None, 128, 768),                                                   \n",
            "                              (None, 128, 768),                                                   \n",
            "                              (None, 128, 768),                                                   \n",
            "                              (None, 128, 768),                                                   \n",
            "                              (None, 128, 768),                                                   \n",
            "                              (None, 128, 768),                                                   \n",
            "                              (None, 128, 768)],                                                  \n",
            "                              'default': (None, 768),                                             \n",
            "                              'sequence_output': (None,                                           \n",
            "                              128, 768),                                                          \n",
            "                              'pooled_output': (None, 7                                           \n",
            "                             68)}                                                                 \n",
            "                                                                                                  \n",
            " dropout (Dropout)           (None, 768)                  0         ['BERT_encoder[0][13]']       \n",
            "                                                                                                  \n",
            " classifier (Dense)          (None, 1)                    769       ['dropout[0][0]']             \n",
            "                                                                                                  \n",
            "==================================================================================================\n",
            "Total params: 109483010 (417.64 MB)\n",
            "Trainable params: 109483009 (417.64 MB)\n",
            "Non-trainable params: 1 (1.00 Byte)\n",
            "__________________________________________________________________________________________________\n"
          ]
        }
      ]
    },
    {
      "cell_type": "markdown",
      "source": [
        "Take a look at the model's structure"
      ],
      "metadata": {
        "id": "kp9hNFiuei5Y"
      }
    },
    {
      "cell_type": "code",
      "source": [
        "tf.keras.utils.plot_model(classifier_model)"
      ],
      "metadata": {
        "id": "-JaCRNDAeg-_",
        "outputId": "6f5f8a6f-f2eb-43c6-f6d6-da38562e3c9c",
        "colab": {
          "base_uri": "https://localhost:8080/",
          "height": 466
        }
      },
      "execution_count": 15,
      "outputs": [
        {
          "output_type": "execute_result",
          "data": {
            "image/png": "[encoded data removed]",
            "text/plain": [
              "<IPython.core.display.Image object>"
            ]
          },
          "metadata": {},
          "execution_count": 15
        }
      ]
    },
    {
      "cell_type": "markdown",
      "source": [
        "**8. Compile the modle**"
      ],
      "metadata": {
        "id": "Bgy0UpNWdpLY"
      }
    },
    {
      "cell_type": "markdown",
      "source": [
        "**Loss function**"
      ],
      "metadata": {
        "id": "mbeIlAoWeuNm"
      }
    },
    {
      "cell_type": "code",
      "source": [
        "# Define the loss function and the metrics that the model will be evaluated on\n",
        "loss = tf.keras.losses.BinaryCrossentropy(from_logits=True)\n",
        "metrics = tf.metrics.BinaryAccuracy()\n",
        "\n",
        "# Define the number of epochs to train the model on\n",
        "epochs = 10\n",
        "\n",
        "# Calculate the number of steps per epoch and the number of training steps\n",
        "steps_per_epoch = tf.data.experimental.cardinality(train_ds).numpy()\n",
        "num_train_steps = steps_per_epoch * epochs\n",
        "num_warmup_steps = int(0.1*num_train_steps)\n",
        "\n",
        "# Define the optimizer and it's learning rate\n",
        "init_lr = 3e-5\n",
        "optimizer = optimization.create_optimizer(init_lr=init_lr,\n",
        "                                          num_train_steps=num_train_steps,\n",
        "                                          num_warmup_steps=num_warmup_steps,\n",
        "                                          optimizer_type='adamw')\n",
        "\n",
        "# Compile the model with the defined loss function, optimizer, and metrics\n",
        "classifier_model.compile(loss=loss, optimizer=optimizer, metrics=metrics)\n"
      ],
      "metadata": {
        "id": "Lg8sAWSadskR"
      },
      "execution_count": 19,
      "outputs": []
    },
    {
      "cell_type": "markdown",
      "source": [
        "**9. Train the model**"
      ],
      "metadata": {
        "id": "qZV_8WONfJEk"
      }
    },
    {
      "cell_type": "code",
      "source": [
        "history = classifier_model.fit(x=train_ds,\n",
        "                               validation_data=val_ds,\n",
        "                               epochs=epochs)"
      ],
      "metadata": {
        "id": "YSW3sQ5-f2Ft",
        "outputId": "3fc1a8c4-5b76-4778-b6f6-b6e926e5845f",
        "colab": {
          "base_uri": "https://localhost:8080/"
        }
      },
      "execution_count": 20,
      "outputs": [
        {
          "output_type": "stream",
          "name": "stdout",
          "text": [
            "Epoch 1/10\n",
            "3/3 [==============================] - 46s 12s/step - loss: 0.5774 - binary_accuracy: 0.6905 - val_loss: 0.6917 - val_binary_accuracy: 0.5000\n",
            "Epoch 2/10\n",
            "3/3 [==============================] - 34s 11s/step - loss: 0.5040 - binary_accuracy: 0.8333 - val_loss: 0.7368 - val_binary_accuracy: 0.5000\n",
            "Epoch 3/10\n",
            "3/3 [==============================] - 35s 11s/step - loss: 0.4554 - binary_accuracy: 0.7857 - val_loss: 0.7936 - val_binary_accuracy: 0.5000\n",
            "Epoch 4/10\n",
            "3/3 [==============================] - 34s 11s/step - loss: 0.3840 - binary_accuracy: 0.9167 - val_loss: 0.9244 - val_binary_accuracy: 0.5556\n",
            "Epoch 5/10\n",
            "3/3 [==============================] - 34s 11s/step - loss: 0.2453 - binary_accuracy: 0.9524 - val_loss: 0.7732 - val_binary_accuracy: 0.6111\n",
            "Epoch 6/10\n",
            "3/3 [==============================] - 34s 11s/step - loss: 0.2376 - binary_accuracy: 0.9048 - val_loss: 0.7387 - val_binary_accuracy: 0.6111\n",
            "Epoch 7/10\n",
            "3/3 [==============================] - 34s 11s/step - loss: 0.1536 - binary_accuracy: 0.9762 - val_loss: 0.7902 - val_binary_accuracy: 0.6111\n",
            "Epoch 8/10\n",
            "3/3 [==============================] - 34s 11s/step - loss: 0.1600 - binary_accuracy: 0.9643 - val_loss: 0.7550 - val_binary_accuracy: 0.5556\n",
            "Epoch 9/10\n",
            "3/3 [==============================] - 34s 11s/step - loss: 0.1463 - binary_accuracy: 0.9643 - val_loss: 0.7375 - val_binary_accuracy: 0.7222\n",
            "Epoch 10/10\n",
            "3/3 [==============================] - 34s 11s/step - loss: 0.0763 - binary_accuracy: 0.9881 - val_loss: 0.7497 - val_binary_accuracy: 0.7222\n"
          ]
        }
      ]
    },
    {
      "cell_type": "code",
      "source": [
        "loss, accuracy = classifier_model.evaluate(test_ds)\n",
        "\n",
        "print(f'Loss: {loss}')\n",
        "print(f'Accuracy: {accuracy}')"
      ],
      "metadata": {
        "id": "caJb7j1Ig6YI",
        "outputId": "b7c7238c-8e2f-420d-d690-e8a178eb9607",
        "colab": {
          "base_uri": "https://localhost:8080/"
        }
      },
      "execution_count": 21,
      "outputs": [
        {
          "output_type": "stream",
          "name": "stdout",
          "text": [
            "1/1 [==============================] - 2s 2s/step - loss: 0.7720 - binary_accuracy: 0.6111\n",
            "Loss: 0.7720147371292114\n",
            "Accuracy: 0.6111111044883728\n"
          ]
        }
      ]
    }
  ],
  "metadata": {
    "language_info": {
      "name": "python"
    },
    "colab": {
      "provenance": [],
      "machine_shape": "hm"
    },
    "kernelspec": {
      "name": "python3",
      "display_name": "Python 3"
    }
  },
  "nbformat": 4,
  "nbformat_minor": 0
}